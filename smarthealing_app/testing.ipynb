{
 "cells": [
  {
   "cell_type": "code",
   "execution_count": 76,
   "metadata": {},
   "outputs": [],
   "source": [
    "import pandas as pd\n",
    "postal_df = pd.read_csv('data/postal_list.csv')"
   ]
  },
  {
   "cell_type": "code",
   "execution_count": 97,
   "metadata": {},
   "outputs": [],
   "source": [
    "def func(X):\n",
    "    lon = f\"{X.lon.split(',')[0]}.{''.join(X.lon.split(',')[1:])}\"\n",
    "    lat = f\"{X.lat.split(',')[0]}.{''.join(X.lat.split(',')[1:])}\"\n",
    "    man =  {'lon':lon,'lat':lat}\n",
    "    return pd.DataFrame(man)\n",
    "    "
   ]
  },
  {
   "cell_type": "markdown",
   "metadata": {},
   "source": []
  },
  {
   "cell_type": "code",
   "execution_count": 96,
   "metadata": {},
   "outputs": [
    {
     "data": {
      "text/plain": [
       "0                      0\n",
       "0  42.939811580\n",
       "1  -2.712437310\n",
       "1                      0\n",
       "0  43.054277760\n",
       "1  -3.000073260\n",
       "2                      0\n",
       "0  43.054277760\n",
       "1  -3.000073260\n",
       "3                      0\n",
       "0  43.054277760\n",
       "1  -3.000073260\n",
       "4                      0\n",
       "0  43.051196530\n",
       "1  -2.565400370\n",
       "                              ...                       \n",
       "14659                  0\n",
       "0  35.290722220\n",
       "1  -2.947211110\n",
       "14660                  0\n",
       "0  35.290722220\n",
       "1  -2.947211110\n",
       "14661                  0\n",
       "0  35.290722220\n",
       "1  -2.947211110\n",
       "14662                  0\n",
       "0  35.290722220\n",
       "1  -2.947211110\n",
       "14663                  0\n",
       "0  35.290722220\n",
       "1  -2.947211110\n",
       "Length: 14664, dtype: object"
      ]
     },
     "execution_count": 96,
     "metadata": {},
     "output_type": "execute_result"
    }
   ],
   "source": [
    "postal_df.apply(func, axis=1)"
   ]
  },
  {
   "cell_type": "code",
   "execution_count": null,
   "metadata": {},
   "outputs": [],
   "source": []
  },
  {
   "cell_type": "code",
   "execution_count": null,
   "metadata": {},
   "outputs": [],
   "source": []
  }
 ],
 "metadata": {
  "kernelspec": {
   "display_name": "Python 3.10.6 64-bit ('3.10.6')",
   "language": "python",
   "name": "python3"
  },
  "language_info": {
   "codemirror_mode": {
    "name": "ipython",
    "version": 3
   },
   "file_extension": ".py",
   "mimetype": "text/x-python",
   "name": "python",
   "nbconvert_exporter": "python",
   "pygments_lexer": "ipython3",
   "version": "3.10.6"
  },
  "orig_nbformat": 4,
  "vscode": {
   "interpreter": {
    "hash": "21d9bc5d7eecede214646489a4c0e0c5579c03f547f8ccb0417f9b3dc6c58f5c"
   }
  }
 },
 "nbformat": 4,
 "nbformat_minor": 2
}
